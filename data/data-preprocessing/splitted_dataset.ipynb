{
 "cells": [
  {
   "cell_type": "code",
   "execution_count": 1,
   "metadata": {},
   "outputs": [],
   "source": [
    "import numpy as np\n",
    "import pandas as pd\n",
    "from tqdm import tqdm\n",
    "import random\n",
    "import json "
   ]
  },
  {
   "cell_type": "markdown",
   "metadata": {},
   "source": [
    "## 데이터 import (preprocessed_data.csv, userid.json, itmeid.json)"
   ]
  },
  {
   "cell_type": "code",
   "execution_count": 2,
   "metadata": {},
   "outputs": [],
   "source": [
    "itemid_json = pd.read_json(\"/opt/ml/final-project-level3-recsys-01/data/data-preprocessing/itemid.json\", orient='records')\n",
    "userid_json = pd.read_json(\"/opt/ml/final-project-level3-recsys-01/data/data-preprocessing/userid.json\", orient='records')\n",
    "itemid = itemid_json.set_index('itemid').to_dict()['index']\n",
    "userid = userid_json.set_index('user_profile_id').to_dict()['index']"
   ]
  },
  {
   "cell_type": "code",
   "execution_count": 3,
   "metadata": {},
   "outputs": [],
   "source": [
    "preprocessed_data = pd.read_csv('./preprocessed_data.csv')"
   ]
  },
  {
   "cell_type": "code",
   "execution_count": 4,
   "metadata": {},
   "outputs": [],
   "source": [
    "preprocessed_data['userid'] = [int(userid[idx]) for idx in preprocessed_data['purchasing_user_profile_id']]\n",
    "preprocessed_data['itemid'] = [int(itemid[idx]) for idx in preprocessed_data['img_url']]"
   ]
  },
  {
   "cell_type": "code",
   "execution_count": 5,
   "metadata": {},
   "outputs": [
    {
     "name": "stderr",
     "output_type": "stream",
     "text": [
      "/tmp/ipykernel_62199/63934291.py:11: SettingWithCopyWarning: \n",
      "A value is trying to be set on a copy of a slice from a DataFrame\n",
      "\n",
      "See the caveats in the documentation: https://pandas.pydata.org/pandas-docs/stable/user_guide/indexing.html#returning-a-view-versus-a-copy\n",
      "  active_df.drop_duplicates(subset=['userid', 'itemid'], inplace=True)\n"
     ]
    }
   ],
   "source": [
    "MIN_TRANSACTION = 30\n",
    "\n",
    "agg_on_user = preprocessed_data.groupby(\"userid\").agg({\n",
    "    \"itemid\": \"nunique\"\n",
    "})\n",
    "\n",
    "active_user = agg_on_user[agg_on_user.itemid >= MIN_TRANSACTION].index.values\n",
    "active_df = preprocessed_data[preprocessed_data.userid.isin(active_user)]\n",
    "\n",
    "# userid itemid 기준으로 unique한 item만 남김\n",
    "active_df.drop_duplicates(subset=['userid', 'itemid'], inplace=True)\n",
    "\n",
    "# userid와 nifty_obj_timestamp를 기준으로 정렬\n",
    "active_df = active_df.sort_values(['userid', 'nifty_obj_timestamp'])\n",
    "active_df.reset_index(drop=True, inplace=True)\n",
    "\n",
    "# 실제 모델에 사용할 학습 데이터\n",
    "active_df.to_csv(f\"transaction_data_min{MIN_TRANSACTION}.csv\", index=False)"
   ]
  },
  {
   "cell_type": "code",
   "execution_count": 6,
   "metadata": {},
   "outputs": [
    {
     "name": "stdout",
     "output_type": "stream",
     "text": [
      "전체 데이터의 item 개수:  7869 개\n",
      "train에 존재하지 않는 test의 item 개수:  7498 중의 371 개\n"
     ]
    }
   ],
   "source": [
    "label = []\n",
    "OPTIMAL_SEED = 149\n",
    "RECALL_K = 10\n",
    "\n",
    "for x in list(active_df.userid.unique()):\n",
    "    n = active_df[active_df['userid'] == x].shape[0]\n",
    "    temp = ['train'] * n\n",
    "    random.seed(OPTIMAL_SEED)\n",
    "    five = random.sample(list(range(n)), RECALL_K)\n",
    "    for y in five:\n",
    "        temp[y] = 'test'\n",
    "    label.extend(temp)\n",
    "\n",
    "assert active_df.shape[0] == len(label)\n",
    "active_df['label'] = label\n",
    "\n",
    "train = active_df[active_df['label'] == 'train']\n",
    "test = active_df[active_df['label'] == 'test']\n",
    "\n",
    "train = active_df[active_df['label'] == 'train']\n",
    "train.reset_index(drop=True, inplace=True)\n",
    "train.to_csv(f\"./train{RECALL_K}_min{MIN_TRANSACTION}.csv\", index=False)\n",
    "\n",
    "test = active_df[active_df['label'] == 'test']\n",
    "test.reset_index(drop=True, inplace=True)\n",
    "test.to_csv(f\"./test{RECALL_K}_min{MIN_TRANSACTION}.csv\", index=False)\n",
    "assert active_df.purchasing_user_profile_id.nunique()*RECALL_K == test.shape[0]\n",
    "\n",
    "test_answer = test.sort_values(['userid', 'itemid'])[['userid', 'itemid']]\n",
    "test_answer.to_csv(f\"./test{RECALL_K}_answer_min{MIN_TRANSACTION}.csv\", index=False)\n",
    "\n",
    "assert len(train.userid.unique()) == len(test.userid.unique())\n",
    "print('전체 데이터의 item 개수: ', len(set(active_df.itemid)), '개')\n",
    "print('train에 존재하지 않는 test의 item 개수: ', len(set(train.itemid)), '중의', len(set(test.itemid).difference(set(train.itemid))), '개')"
   ]
  },
  {
   "cell_type": "code",
   "execution_count": 7,
   "metadata": {},
   "outputs": [],
   "source": [
    "def save_transaction_ids(df, id_name):\n",
    "    transaction_id = pd.DataFrame(\n",
    "        {id_name: sorted(df[id_name].unique())}\n",
    "    )\n",
    "    transaction_id = transaction_id.rename_axis('index').reset_index()\n",
    "    transaction_id_dic = transaction_id.to_json(orient=\"records\")\n",
    "    save_json(f\"transaction_{id_name}\", transaction_id_dic)\n",
    "\n",
    "def save_json(fname, dic_data):\n",
    "\n",
    "    with open(f\"./{fname}_min{MIN_TRANSACTION}.json\", \"w\") as outfile:\n",
    "        parsed = json.loads(dic_data)\n",
    "        json.dump(parsed, outfile, indent=4)"
   ]
  },
  {
   "cell_type": "code",
   "execution_count": 8,
   "metadata": {},
   "outputs": [],
   "source": [
    "itemid_imageurl = active_df[['itemid', 'img_url']]\n",
    "itemid_imageurl = itemid_imageurl.drop_duplicates(subset=[\"itemid\"])\n",
    "itemid_imageurl = itemid_imageurl.to_json(orient=\"records\")\n",
    "\n",
    "save_json(\"transaction_itemid_imageurl\", itemid_imageurl)\n",
    "save_transaction_ids(active_df, \"userid\")\n",
    "save_transaction_ids(active_df, \"itemid\")"
   ]
  },
  {
   "cell_type": "code",
   "execution_count": null,
   "metadata": {},
   "outputs": [],
   "source": []
  }
 ],
 "metadata": {
  "interpreter": {
   "hash": "d4d1e4263499bec80672ea0156c357c1ee493ec2b1c70f0acce89fc37c4a6abe"
  },
  "kernelspec": {
   "display_name": "Python 3.8.5 ('base')",
   "language": "python",
   "name": "python3"
  },
  "language_info": {
   "codemirror_mode": {
    "name": "ipython",
    "version": 3
   },
   "file_extension": ".py",
   "mimetype": "text/x-python",
   "name": "python",
   "nbconvert_exporter": "python",
   "pygments_lexer": "ipython3",
   "version": "3.8.5"
  },
  "orig_nbformat": 4
 },
 "nbformat": 4,
 "nbformat_minor": 2
}
