{
 "cells": [
  {
   "cell_type": "code",
   "execution_count": null,
   "metadata": {},
   "outputs": [],
   "source": [
    "import numpy as np\n",
    "import pandas as pd\n",
    "import json \n",
    "\n",
    "import matplotlib.pyplot as plt\n",
    "from matplotlib_venn import venn2"
   ]
  },
  {
   "cell_type": "code",
   "execution_count": null,
   "metadata": {},
   "outputs": [],
   "source": [
    "raw_data = pd.read_csv(\"./raw_data.csv\", index_col=0)"
   ]
  },
  {
   "cell_type": "code",
   "execution_count": null,
   "metadata": {},
   "outputs": [],
   "source": [
    "raw_data.head()"
   ]
  },
  {
   "cell_type": "code",
   "execution_count": null,
   "metadata": {},
   "outputs": [],
   "source": [
    "raw_data.info()"
   ]
  },
  {
   "cell_type": "code",
   "execution_count": null,
   "metadata": {},
   "outputs": [],
   "source": [
    "# 사는 사람보다 판 사람이 더 많다\n",
    "raw_data[['purchasing_user_profile_id', 'selling_user_profile_id']].nunique()"
   ]
  },
  {
   "cell_type": "code",
   "execution_count": null,
   "metadata": {},
   "outputs": [],
   "source": [
    "# 팔기만 하는 사람도 존재하고, 사기만 하는 사람도 존재한다\n",
    "purchased = set(raw_data['purchasing_user_profile_id'])\n",
    "sell = set(raw_data['selling_user_profile_id'])\n",
    "# len(purchased.difference(sell))\n",
    "# len(purchased.intersection(sell))\n",
    "# len(sell.difference(purchased))\n",
    "\n",
    "venn2(subsets=(len(purchased.difference(sell)), len(sell.difference(purchased)), len(purchased.intersection(sell))),\n",
    "        set_labels = ('purchaser', 'seller'))\n",
    "plt.show()"
   ]
  },
  {
   "cell_type": "code",
   "execution_count": null,
   "metadata": {},
   "outputs": [],
   "source": [
    "userid = list(purchased.union(sell))\n",
    "userid_df = pd.DataFrame(\n",
    "    {'userid': userid}\n",
    ")\n",
    "userid_dict = userid_df.to_dict()['userid']\n",
    "# print(userid_dict)\n",
    "with open('./userid.json', 'w') as outfile:\n",
    "    json.dump(userid_dict, outfile, indent = 4) "
   ]
  },
  {
   "cell_type": "code",
   "execution_count": null,
   "metadata": {},
   "outputs": [],
   "source": [
    "itemid_df = raw_data[['nifty_obj_contract_address', 'nifty_obj_token_id']].drop_duplicates().reset_index(drop=True)\n",
    "itemid_dict = itemid_df.T.to_dict('list')\n",
    "# print(itemid_dict)\n",
    "with open('./itemid.json', 'w') as outfile:\n",
    "    json.dump(itemid_dict, outfile, indent = 4)"
   ]
  },
  {
   "cell_type": "code",
   "execution_count": null,
   "metadata": {},
   "outputs": [],
   "source": [
    "# 데이터 전처리\n",
    "new_data = raw_data.copy()\n",
    "for x in new_data.columns:\n",
    "    if new_data[x].dtype == 'object':\n",
    "        new_data[x] = [s.strip() if not s is np.nan else s for s in new_data[x]]\n",
    "new_data = new_data.dropna(subset=['nifty_obj_img_url'], axis=0)\n",
    "new_data['nifty_obj_img_url'] = [x if x.startswith('http') else np.nan for x in new_data['nifty_obj_img_url']]\n",
    "new_data = new_data.dropna(subset=['nifty_obj_img_url'], axis=0)\n",
    "new_data.reset_index(drop=True, inplace=True)"
   ]
  },
  {
   "cell_type": "code",
   "execution_count": null,
   "metadata": {},
   "outputs": [],
   "source": [
    "# 데이터 export\n",
    "new_data.to_csv('./preprocessed_data.csv', index=False)"
   ]
  }
 ],
 "metadata": {
  "interpreter": {
   "hash": "d4d1e4263499bec80672ea0156c357c1ee493ec2b1c70f0acce89fc37c4a6abe"
  },
  "kernelspec": {
   "display_name": "Python 3.8.5 ('base')",
   "language": "python",
   "name": "python3"
  },
  "language_info": {
   "codemirror_mode": {
    "name": "ipython",
    "version": 3
   },
   "file_extension": ".py",
   "mimetype": "text/x-python",
   "name": "python",
   "nbconvert_exporter": "python",
   "pygments_lexer": "ipython3",
   "version": "3.8.5"
  },
  "orig_nbformat": 4
 },
 "nbformat": 4,
 "nbformat_minor": 2
}
