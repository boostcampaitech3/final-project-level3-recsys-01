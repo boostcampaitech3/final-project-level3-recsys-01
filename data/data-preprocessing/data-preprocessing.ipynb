{
 "cells": [
  {
   "cell_type": "code",
   "execution_count": 1,
   "metadata": {},
   "outputs": [],
   "source": [
    "import numpy as np\n",
    "import pandas as pd\n",
    "from datetime import datetime\n",
    "import json \n",
    "\n",
    "import matplotlib.pyplot as plt\n",
    "from matplotlib_venn import venn2"
   ]
  },
  {
   "cell_type": "code",
   "execution_count": 2,
   "metadata": {},
   "outputs": [],
   "source": [
    "raw_data = pd.read_csv(\"./raw_data.csv\", index_col=0)"
   ]
  },
  {
   "cell_type": "code",
   "execution_count": 3,
   "metadata": {},
   "outputs": [
    {
     "data": {
      "text/html": [
       "<div>\n",
       "<style scoped>\n",
       "    .dataframe tbody tr th:only-of-type {\n",
       "        vertical-align: middle;\n",
       "    }\n",
       "\n",
       "    .dataframe tbody tr th {\n",
       "        vertical-align: top;\n",
       "    }\n",
       "\n",
       "    .dataframe thead th {\n",
       "        text-align: right;\n",
       "    }\n",
       "</style>\n",
       "<table border=\"1\" class=\"dataframe\">\n",
       "  <thead>\n",
       "    <tr style=\"text-align: right;\">\n",
       "      <th></th>\n",
       "      <th>purchasing_user_profile_id</th>\n",
       "      <th>selling_user_profile_profile_url</th>\n",
       "      <th>nifty_obj_name</th>\n",
       "      <th>nifty_obj_total_num_editions</th>\n",
       "      <th>nifty_obj_likes</th>\n",
       "      <th>nifty_obj_token_id</th>\n",
       "      <th>nifty_obj_timestamp</th>\n",
       "      <th>nifty_obj_contract_address</th>\n",
       "      <th>nifty_obj_img_url</th>\n",
       "      <th>nifty_obj_made_user</th>\n",
       "      <th>purchasing_user_profile_profile_url</th>\n",
       "      <th>selling_user_profile_id</th>\n",
       "      <th>selling_user_profile_name</th>\n",
       "      <th>purchasing_user_profile_name</th>\n",
       "    </tr>\n",
       "  </thead>\n",
       "  <tbody>\n",
       "    <tr>\n",
       "      <th>0</th>\n",
       "      <td>37927</td>\n",
       "      <td>allabouttheu</td>\n",
       "      <td>m(40) #28516</td>\n",
       "      <td>28983</td>\n",
       "      <td>602</td>\n",
       "      <td>28516</td>\n",
       "      <td>2021-12-01T15:46:38.684451Z</td>\n",
       "      <td>0xc3f8a0f5841abff777d3eefa5047e8d413a1c9ab</td>\n",
       "      <td>&lt;svg xmlns='http://www.w3.org/2000/svg' versio...</td>\n",
       "      <td>5732</td>\n",
       "      <td>hopper</td>\n",
       "      <td>623641</td>\n",
       "      <td>AllAboutTheU</td>\n",
       "      <td>Ryan</td>\n",
       "    </tr>\n",
       "    <tr>\n",
       "      <th>1</th>\n",
       "      <td>129272</td>\n",
       "      <td>nftran</td>\n",
       "      <td>DEFCON 1 by Creatiflux #27/50</td>\n",
       "      <td>50</td>\n",
       "      <td>16</td>\n",
       "      <td>75</td>\n",
       "      <td>2022-03-29T17:40:51.591425Z</td>\n",
       "      <td>0xece5f6b28eccb6a9d1b972526d77773fb4167f80</td>\n",
       "      <td>https://media.niftygateway.com/video/upload/v1...</td>\n",
       "      <td>616892</td>\n",
       "      <td>hugom</td>\n",
       "      <td>723861</td>\n",
       "      <td>Nftran</td>\n",
       "      <td>HUGOM88888</td>\n",
       "    </tr>\n",
       "    <tr>\n",
       "      <th>2</th>\n",
       "      <td>20559</td>\n",
       "      <td>c12i34</td>\n",
       "      <td>m(1) #27630</td>\n",
       "      <td>28983</td>\n",
       "      <td>602</td>\n",
       "      <td>27630</td>\n",
       "      <td>2021-12-01T15:46:38.684451Z</td>\n",
       "      <td>0xc3f8a0f5841abff777d3eefa5047e8d413a1c9ab</td>\n",
       "      <td>&lt;svg xmlns='http://www.w3.org/2000/svg' versio...</td>\n",
       "      <td>5732</td>\n",
       "      <td>torge</td>\n",
       "      <td>837637</td>\n",
       "      <td>Chubbi Analyst</td>\n",
       "      <td>T</td>\n",
       "    </tr>\n",
       "    <tr>\n",
       "      <th>3</th>\n",
       "      <td>12608</td>\n",
       "      <td>rvt8</td>\n",
       "      <td>m(1) #14288</td>\n",
       "      <td>28983</td>\n",
       "      <td>602</td>\n",
       "      <td>14288</td>\n",
       "      <td>2021-12-01T15:46:38.684451Z</td>\n",
       "      <td>0xc3f8a0f5841abff777d3eefa5047e8d413a1c9ab</td>\n",
       "      <td>&lt;svg xmlns='http://www.w3.org/2000/svg' versio...</td>\n",
       "      <td>5732</td>\n",
       "      <td>zeddcules</td>\n",
       "      <td>748120</td>\n",
       "      <td>Rohan</td>\n",
       "      <td>ZeDdCuLeS</td>\n",
       "    </tr>\n",
       "    <tr>\n",
       "      <th>4</th>\n",
       "      <td>12608</td>\n",
       "      <td>csenang</td>\n",
       "      <td>m(2) #23525</td>\n",
       "      <td>28983</td>\n",
       "      <td>602</td>\n",
       "      <td>23525</td>\n",
       "      <td>2021-12-01T15:46:38.684451Z</td>\n",
       "      <td>0xc3f8a0f5841abff777d3eefa5047e8d413a1c9ab</td>\n",
       "      <td>&lt;svg xmlns='http://www.w3.org/2000/svg' versio...</td>\n",
       "      <td>5732</td>\n",
       "      <td>zeddcules</td>\n",
       "      <td>278404</td>\n",
       "      <td>csenang</td>\n",
       "      <td>ZeDdCuLeS</td>\n",
       "    </tr>\n",
       "  </tbody>\n",
       "</table>\n",
       "</div>"
      ],
      "text/plain": [
       "   purchasing_user_profile_id selling_user_profile_profile_url  \\\n",
       "0                       37927                     allabouttheu   \n",
       "1                      129272                           nftran   \n",
       "2                       20559                           c12i34   \n",
       "3                       12608                             rvt8   \n",
       "4                       12608                          csenang   \n",
       "\n",
       "                  nifty_obj_name  nifty_obj_total_num_editions  \\\n",
       "0                   m(40) #28516                         28983   \n",
       "1  DEFCON 1 by Creatiflux #27/50                            50   \n",
       "2                    m(1) #27630                         28983   \n",
       "3                    m(1) #14288                         28983   \n",
       "4                    m(2) #23525                         28983   \n",
       "\n",
       "   nifty_obj_likes  nifty_obj_token_id          nifty_obj_timestamp  \\\n",
       "0              602               28516  2021-12-01T15:46:38.684451Z   \n",
       "1               16                  75  2022-03-29T17:40:51.591425Z   \n",
       "2              602               27630  2021-12-01T15:46:38.684451Z   \n",
       "3              602               14288  2021-12-01T15:46:38.684451Z   \n",
       "4              602               23525  2021-12-01T15:46:38.684451Z   \n",
       "\n",
       "                   nifty_obj_contract_address  \\\n",
       "0  0xc3f8a0f5841abff777d3eefa5047e8d413a1c9ab   \n",
       "1  0xece5f6b28eccb6a9d1b972526d77773fb4167f80   \n",
       "2  0xc3f8a0f5841abff777d3eefa5047e8d413a1c9ab   \n",
       "3  0xc3f8a0f5841abff777d3eefa5047e8d413a1c9ab   \n",
       "4  0xc3f8a0f5841abff777d3eefa5047e8d413a1c9ab   \n",
       "\n",
       "                                   nifty_obj_img_url  nifty_obj_made_user  \\\n",
       "0  <svg xmlns='http://www.w3.org/2000/svg' versio...                 5732   \n",
       "1  https://media.niftygateway.com/video/upload/v1...               616892   \n",
       "2  <svg xmlns='http://www.w3.org/2000/svg' versio...                 5732   \n",
       "3  <svg xmlns='http://www.w3.org/2000/svg' versio...                 5732   \n",
       "4  <svg xmlns='http://www.w3.org/2000/svg' versio...                 5732   \n",
       "\n",
       "  purchasing_user_profile_profile_url  selling_user_profile_id  \\\n",
       "0                              hopper                   623641   \n",
       "1                               hugom                   723861   \n",
       "2                               torge                   837637   \n",
       "3                           zeddcules                   748120   \n",
       "4                           zeddcules                   278404   \n",
       "\n",
       "  selling_user_profile_name purchasing_user_profile_name  \n",
       "0              AllAboutTheU                         Ryan  \n",
       "1                    Nftran                   HUGOM88888  \n",
       "2            Chubbi Analyst                            T  \n",
       "3                     Rohan                    ZeDdCuLeS  \n",
       "4                   csenang                    ZeDdCuLeS  "
      ]
     },
     "execution_count": 3,
     "metadata": {},
     "output_type": "execute_result"
    }
   ],
   "source": [
    "raw_data.head()"
   ]
  },
  {
   "cell_type": "code",
   "execution_count": 4,
   "metadata": {},
   "outputs": [
    {
     "name": "stdout",
     "output_type": "stream",
     "text": [
      "<class 'pandas.core.frame.DataFrame'>\n",
      "Int64Index: 160219 entries, 0 to 160218\n",
      "Data columns (total 14 columns):\n",
      " #   Column                               Non-Null Count   Dtype \n",
      "---  ------                               --------------   ----- \n",
      " 0   purchasing_user_profile_id           160219 non-null  int64 \n",
      " 1   selling_user_profile_profile_url     160216 non-null  object\n",
      " 2   nifty_obj_name                       160219 non-null  object\n",
      " 3   nifty_obj_total_num_editions         160219 non-null  int64 \n",
      " 4   nifty_obj_likes                      160219 non-null  int64 \n",
      " 5   nifty_obj_token_id                   160219 non-null  int64 \n",
      " 6   nifty_obj_timestamp                  160219 non-null  object\n",
      " 7   nifty_obj_contract_address           160219 non-null  object\n",
      " 8   nifty_obj_img_url                    160216 non-null  object\n",
      " 9   nifty_obj_made_user                  160219 non-null  int64 \n",
      " 10  purchasing_user_profile_profile_url  160217 non-null  object\n",
      " 11  selling_user_profile_id              160219 non-null  int64 \n",
      " 12  selling_user_profile_name            159070 non-null  object\n",
      " 13  purchasing_user_profile_name         159070 non-null  object\n",
      "dtypes: int64(6), object(8)\n",
      "memory usage: 18.3+ MB\n"
     ]
    }
   ],
   "source": [
    "raw_data.info()"
   ]
  },
  {
   "cell_type": "code",
   "execution_count": 5,
   "metadata": {},
   "outputs": [
    {
     "data": {
      "text/plain": [
       "purchasing_user_profile_id    28223\n",
       "selling_user_profile_id       31464\n",
       "dtype: int64"
      ]
     },
     "execution_count": 5,
     "metadata": {},
     "output_type": "execute_result"
    }
   ],
   "source": [
    "# 사는 사람보다 판 사람이 더 많다\n",
    "raw_data[['purchasing_user_profile_id', 'selling_user_profile_id']].nunique()"
   ]
  },
  {
   "cell_type": "code",
   "execution_count": 6,
   "metadata": {},
   "outputs": [
    {
     "data": {
      "image/png": "[encoded data removed]",
      "text/plain": [
       "<Figure size 432x288 with 1 Axes>"
      ]
     },
     "metadata": {},
     "output_type": "display_data"
    }
   ],
   "source": [
    "# 팔기만 하는 사람도 존재하고, 사기만 하는 사람도 존재한다\n",
    "purchased = set(raw_data['purchasing_user_profile_id'])\n",
    "sell = set(raw_data['selling_user_profile_id'])\n",
    "# len(purchased.difference(sell))\n",
    "# len(purchased.intersection(sell))\n",
    "# len(sell.difference(purchased))\n",
    "\n",
    "venn2(subsets=(len(purchased.difference(sell)), len(sell.difference(purchased)), len(purchased.intersection(sell))),\n",
    "        set_labels = ('purchaser', 'seller'))\n",
    "plt.show()"
   ]
  },
  {
   "cell_type": "code",
   "execution_count": 7,
   "metadata": {},
   "outputs": [],
   "source": [
    "# 데이터 전처리\n",
    "new_data = raw_data.copy()\n",
    "for x in new_data.columns:\n",
    "    if new_data[x].dtype == 'object':\n",
    "        new_data[x] = [s.strip() if not s is np.nan else s for s in new_data[x]]\n",
    "new_data = new_data.dropna(subset=['nifty_obj_img_url'], axis=0)\n",
    "new_data['nifty_obj_img_url'] = [x if x.startswith('http') else np.nan for x in new_data['nifty_obj_img_url']]\n",
    "new_data = new_data.dropna(subset=['nifty_obj_img_url'], axis=0)\n",
    "new_data['img_url'] = [x.split('/')[-1] for x in new_data['nifty_obj_img_url']]\n",
    "new_data['extension'] = [x.split('.')[-1] if len(x.split('.')[-1]) < 10 else np.nan for x in new_data['img_url']]\n",
    "new_data['nifty_obj_timestamp'] = [datetime.strptime(x, '%Y-%m-%dT%H:%M:%S.%fZ') for x in new_data['nifty_obj_timestamp']]\n",
    "new_data.reset_index(drop=True, inplace=True)"
   ]
  },
  {
   "cell_type": "code",
   "execution_count": 8,
   "metadata": {},
   "outputs": [],
   "source": [
    "userid = list(purchased.union(sell))\n",
    "userid_df = pd.DataFrame(\n",
    "    {'userid': userid}\n",
    ")\n",
    "userid_dict = userid_df.to_dict()['userid']\n",
    "# print(userid_dict)\n",
    "with open('./userid.json', 'w') as outfile:\n",
    "    json.dump(userid_dict, outfile, indent = 4) "
   ]
  },
  {
   "cell_type": "code",
   "execution_count": 9,
   "metadata": {},
   "outputs": [],
   "source": [
    "itemid_df = pd.DataFrame(\n",
    "    {'itemid': list(new_data['img_url'].unique())}\n",
    ")\n",
    "itemid_dict = itemid_df.to_dict()['itemid']\n",
    "# print(itemid_dict)\n",
    "with open('./itemid.json', 'w') as outfile:\n",
    "    json.dump(itemid_dict, outfile, indent = 4)"
   ]
  },
  {
   "cell_type": "code",
   "execution_count": 10,
   "metadata": {},
   "outputs": [],
   "source": [
    "# 데이터 export\n",
    "new_data.to_csv('./preprocessed_data.csv', index=False)"
   ]
  }
 ],
 "metadata": {
  "interpreter": {
   "hash": "d4d1e4263499bec80672ea0156c357c1ee493ec2b1c70f0acce89fc37c4a6abe"
  },
  "kernelspec": {
   "display_name": "Python 3.8.5 ('base')",
   "language": "python",
   "name": "python3"
  },
  "language_info": {
   "codemirror_mode": {
    "name": "ipython",
    "version": 3
   },
   "file_extension": ".py",
   "mimetype": "text/x-python",
   "name": "python",
   "nbconvert_exporter": "python",
   "pygments_lexer": "ipython3",
   "version": "3.8.5"
  },
  "orig_nbformat": 4
 },
 "nbformat": 4,
 "nbformat_minor": 2
}
