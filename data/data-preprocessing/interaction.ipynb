{
 "cells": [
  {
   "cell_type": "code",
   "execution_count": 1,
   "metadata": {},
   "outputs": [],
   "source": [
    "import numpy as np\n",
    "import pandas as pd\n",
    "import json \n",
    "from tqdm import tqdm"
   ]
  },
  {
   "cell_type": "code",
   "execution_count": 2,
   "metadata": {},
   "outputs": [],
   "source": [
    "# 데이터 import\n",
    "preprocessed_data = pd.read_csv('./preprocessed_data.csv')\n",
    "with open('./userid.json') as json_file:\n",
    "    userid = json.load(json_file)\n",
    "    userid = {v: k for k, v in userid.items()}\n",
    "\n",
    "with open('./itemid.json') as json_file:\n",
    "    itemid = json.load(json_file)\n",
    "    itemid = {v: k for k, v in itemid.items()}"
   ]
  },
  {
   "cell_type": "code",
   "execution_count": 3,
   "metadata": {},
   "outputs": [],
   "source": [
    "preprocessed_data['userid'] = [userid[preprocessed_data['purchasing_user_profile_id'][i]] for i in range(preprocessed_data.shape[0])]\n",
    "preprocessed_data['itemid'] = [itemid[preprocessed_data['img_url'][i]] for i in range(preprocessed_data.shape[0])]"
   ]
  },
  {
   "cell_type": "code",
   "execution_count": 4,
   "metadata": {},
   "outputs": [
    {
     "name": "stderr",
     "output_type": "stream",
     "text": [
      "/tmp/ipykernel_41972/1087522077.py:2: SettingWithCopyWarning: \n",
      "A value is trying to be set on a copy of a slice from a DataFrame\n",
      "\n",
      "See the caveats in the documentation: https://pandas.pydata.org/pandas-docs/stable/user_guide/indexing.html#returning-a-view-versus-a-copy\n",
      "  itemid_imageurl.drop_duplicates(inplace=True)\n"
     ]
    }
   ],
   "source": [
    "itemid_imageurl = preprocessed_data[['itemid', 'nifty_obj_img_url']]\n",
    "itemid_imageurl.drop_duplicates(inplace=True)\n",
    "itemid_imageurl.set_index('itemid', inplace=True)\n",
    "itemid_imageurl = itemid_imageurl.to_dict()['nifty_obj_img_url']\n",
    "# print(interaction_userid)\n",
    "with open('./itemid_imageurl.json', 'w') as outfile:\n",
    "    json.dump(itemid_imageurl, outfile, indent = 4) "
   ]
  },
  {
   "cell_type": "code",
   "execution_count": 5,
   "metadata": {},
   "outputs": [],
   "source": [
    "interaction_userid = pd.DataFrame(\n",
    "    {'userid': sorted(preprocessed_data['userid'].unique())}\n",
    ")\n",
    "interaction_userid = interaction_userid.to_dict()['userid']\n",
    "# print(interaction_userid)\n",
    "with open('./interaction_userid.json', 'w') as outfile:\n",
    "    json.dump(interaction_userid, outfile, indent = 4) \n",
    "with open('./interaction_userid.json') as json_file:\n",
    "    interaction_userid = json.load(json_file)\n",
    "    interaction_userid = {v: k for k, v in interaction_userid.items()}\n",
    "preprocessed_data['userid'] = list(map(int, [interaction_userid[x] for x in preprocessed_data['userid']]))"
   ]
  },
  {
   "cell_type": "code",
   "execution_count": 6,
   "metadata": {},
   "outputs": [],
   "source": [
    "interaction_itemid = pd.DataFrame(\n",
    "    {'itemid': sorted(preprocessed_data['itemid'].unique())}\n",
    ")\n",
    "interaction_itemid = interaction_itemid.to_dict()['itemid']\n",
    "# print(interaction_itemid)\n",
    "with open('./interaction_itemid.json', 'w') as outfile:\n",
    "    json.dump(interaction_itemid, outfile, indent = 4) \n",
    "with open('./interaction_itemid.json') as json_file:\n",
    "    interaction_itemid = json.load(json_file)\n",
    "    interaction_itemid = {v: k for k, v in interaction_itemid.items()}\n",
    "preprocessed_data['itemid'] = list(map(int, [interaction_itemid[x] for x in preprocessed_data['itemid']]))"
   ]
  },
  {
   "cell_type": "code",
   "execution_count": 7,
   "metadata": {},
   "outputs": [
    {
     "name": "stderr",
     "output_type": "stream",
     "text": [
      "100%|██████████| 158380/158380 [00:02<00:00, 57628.35it/s]\n"
     ]
    }
   ],
   "source": [
    "interaction = np.zeros((len(preprocessed_data['userid'].unique()),len(preprocessed_data['itemid'].unique())))\n",
    "for i in tqdm(range(preprocessed_data.shape[0])):\n",
    "    interaction[preprocessed_data['userid'][i]][preprocessed_data['itemid'][i]] = 1\n",
    "interaction = pd.DataFrame(interaction)"
   ]
  },
  {
   "cell_type": "code",
   "execution_count": 8,
   "metadata": {},
   "outputs": [],
   "source": [
    "interaction.to_csv(\"./interaction.csv\", index=False)"
   ]
  }
 ],
 "metadata": {
  "interpreter": {
   "hash": "d4d1e4263499bec80672ea0156c357c1ee493ec2b1c70f0acce89fc37c4a6abe"
  },
  "kernelspec": {
   "display_name": "Python 3.8.5 ('base')",
   "language": "python",
   "name": "python3"
  },
  "language_info": {
   "codemirror_mode": {
    "name": "ipython",
    "version": 3
   },
   "file_extension": ".py",
   "mimetype": "text/x-python",
   "name": "python",
   "nbconvert_exporter": "python",
   "pygments_lexer": "ipython3",
   "version": "3.8.5"
  },
  "orig_nbformat": 4
 },
 "nbformat": 4,
 "nbformat_minor": 2
}
